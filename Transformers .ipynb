{
 "cells": [
  {
   "cell_type": "markdown",
   "id": "af884310",
   "metadata": {},
   "source": [
    "# Transformers tasks"
   ]
  },
  {
   "cell_type": "code",
   "execution_count": null,
   "id": "07cc82ba",
   "metadata": {},
   "outputs": [],
   "source": [
    "tasks  Transformers\n",
    "-Sentiment analysis\n",
    "-Name entity recognition (NER)\n",
    "-Question answering \n",
    "-Filling masked text\n",
    "-Translation"
   ]
  },
  {
   "cell_type": "code",
   "execution_count": 73,
   "id": "a724ba43",
   "metadata": {},
   "outputs": [
    {
     "name": "stdout",
     "output_type": "stream",
     "text": [
      "Requirement already satisfied: transformers in c:\\users\\dell\\anaconda3\\lib\\site-packages (4.9.1)\n",
      "Requirement already satisfied: numpy>=1.17 in c:\\users\\dell\\anaconda3\\lib\\site-packages (from transformers) (1.19.5)\n",
      "Requirement already satisfied: tqdm>=4.27 in c:\\users\\dell\\anaconda3\\lib\\site-packages (from transformers) (4.59.0)\n",
      "Requirement already satisfied: sacremoses in c:\\users\\dell\\anaconda3\\lib\\site-packages (from transformers) (0.0.45)\n",
      "Requirement already satisfied: filelock in c:\\users\\dell\\anaconda3\\lib\\site-packages (from transformers) (3.0.12)\n",
      "Requirement already satisfied: pyyaml>=5.1 in c:\\users\\dell\\anaconda3\\lib\\site-packages (from transformers) (5.4.1)\n",
      "Requirement already satisfied: huggingface-hub==0.0.12 in c:\\users\\dell\\anaconda3\\lib\\site-packages (from transformers) (0.0.12)\n",
      "Requirement already satisfied: packaging in c:\\users\\dell\\anaconda3\\lib\\site-packages (from transformers) (20.9)\n",
      "Requirement already satisfied: regex!=2019.12.17 in c:\\users\\dell\\anaconda3\\lib\\site-packages (from transformers) (2021.4.4)\n",
      "Requirement already satisfied: requests in c:\\users\\dell\\anaconda3\\lib\\site-packages (from transformers) (2.25.1)\n",
      "Requirement already satisfied: tokenizers<0.11,>=0.10.1 in c:\\users\\dell\\anaconda3\\lib\\site-packages (from transformers) (0.10.3)\n",
      "Requirement already satisfied: typing-extensions in c:\\users\\dell\\anaconda3\\lib\\site-packages (from huggingface-hub==0.0.12->transformers) (3.7.4.3)\n",
      "Requirement already satisfied: pyparsing>=2.0.2 in c:\\users\\dell\\anaconda3\\lib\\site-packages (from packaging->transformers) (2.4.7)\n",
      "Requirement already satisfied: urllib3<1.27,>=1.21.1 in c:\\users\\dell\\anaconda3\\lib\\site-packages (from requests->transformers) (1.26.4)\n",
      "Requirement already satisfied: chardet<5,>=3.0.2 in c:\\users\\dell\\anaconda3\\lib\\site-packages (from requests->transformers) (4.0.0)\n",
      "Requirement already satisfied: idna<3,>=2.5 in c:\\users\\dell\\anaconda3\\lib\\site-packages (from requests->transformers) (2.10)\n",
      "Requirement already satisfied: certifi>=2017.4.17 in c:\\users\\dell\\anaconda3\\lib\\site-packages (from requests->transformers) (2020.12.5)\n",
      "Requirement already satisfied: joblib in c:\\users\\dell\\anaconda3\\lib\\site-packages (from sacremoses->transformers) (1.0.1)\n",
      "Requirement already satisfied: click in c:\\users\\dell\\anaconda3\\lib\\site-packages (from sacremoses->transformers) (7.1.2)\n",
      "Requirement already satisfied: six in c:\\users\\dell\\anaconda3\\lib\\site-packages (from sacremoses->transformers) (1.15.0)\n"
     ]
    }
   ],
   "source": [
    "!pip install transformers"
   ]
  },
  {
   "cell_type": "markdown",
   "id": "5717f4bd",
   "metadata": {},
   "source": [
    "#   Sentiment analysis"
   ]
  },
  {
   "cell_type": "code",
   "execution_count": 74,
   "id": "c2f23c88",
   "metadata": {},
   "outputs": [],
   "source": [
    "from transformers import pipeline"
   ]
  },
  {
   "cell_type": "code",
   "execution_count": 75,
   "id": "7d894f4f",
   "metadata": {},
   "outputs": [
    {
     "data": {
      "text/plain": [
       "[{'label': 'POSITIVE', 'score': 0.9978193640708923}]"
      ]
     },
     "execution_count": 75,
     "metadata": {},
     "output_type": "execute_result"
    }
   ],
   "source": [
    "senti_pipeline =pipeline(\"sentiment-analysis\")\n",
    "senti_pipeline('We are very happy to include pipeline into the transformers repository.')"
   ]
  },
  {
   "cell_type": "code",
   "execution_count": 76,
   "id": "114646d8",
   "metadata": {},
   "outputs": [
    {
     "data": {
      "text/plain": [
       "[{'label': 'NEGATIVE', 'score': 0.9991856217384338}]"
      ]
     },
     "execution_count": 76,
     "metadata": {},
     "output_type": "execute_result"
    }
   ],
   "source": [
    " senti_pipeline(\"i am  sad \")"
   ]
  },
  {
   "cell_type": "code",
   "execution_count": 77,
   "id": "8d0df26d",
   "metadata": {},
   "outputs": [
    {
     "data": {
      "text/plain": [
       "[{'label': 'POSITIVE', 'score': 0.9998695254325867}]"
      ]
     },
     "execution_count": 77,
     "metadata": {},
     "output_type": "execute_result"
    }
   ],
   "source": [
    " senti_pipeline(\" i like you  \")"
   ]
  },
  {
   "cell_type": "markdown",
   "id": "f4a29684",
   "metadata": {},
   "source": [
    "#  Question Answering using, HuggingFace Transformers"
   ]
  },
  {
   "cell_type": "code",
   "execution_count": 78,
   "id": "d4c3c91b",
   "metadata": {},
   "outputs": [],
   "source": [
    " from transformers import pipeline"
   ]
  },
  {
   "cell_type": "code",
   "execution_count": 18,
   "id": "7f866479",
   "metadata": {},
   "outputs": [
    {
     "data": {
      "application/vnd.jupyter.widget-view+json": {
       "model_id": "c9027f6d79eb40b1927f6fd5d9aa8a79",
       "version_major": 2,
       "version_minor": 0
      },
      "text/plain": [
       "Downloading:   0%|          | 0.00/261M [00:00<?, ?B/s]"
      ]
     },
     "metadata": {},
     "output_type": "display_data"
    },
    {
     "data": {
      "text/plain": [
       "{'score': 0.9761040210723877,\n",
       " 'start': 11,\n",
       " 'end': 26,\n",
       " 'answer': 'Otman ait mbark'}"
      ]
     },
     "execution_count": 18,
     "metadata": {},
     "output_type": "execute_result"
    }
   ],
   "source": [
    "nlp = pipeline('question-answering')\n",
    "nlp({\n",
    "    'question': 'What is my name ?',\n",
    "    'context': 'My name is Otman ait mbark , I work at HuggingFace'\n",
    "})"
   ]
  },
  {
   "cell_type": "code",
   "execution_count": 79,
   "id": "1695d85f",
   "metadata": {},
   "outputs": [
    {
     "data": {
      "text/plain": [
       "{'score': 0.20428475737571716, 'start': 30, 'end': 37, 'answer': 'ورزازات'}"
      ]
     },
     "execution_count": 79,
     "metadata": {},
     "output_type": "execute_result"
    }
   ],
   "source": [
    "nlp = pipeline('question-answering')\n",
    "nlp({\n",
    "    'question': '?أين اسكن',\n",
    "    'context': 'اعيش في المغرب ,اسكن في مدينة ورزازات'\n",
    "})"
   ]
  },
  {
   "cell_type": "markdown",
   "id": "38600fc4",
   "metadata": {},
   "source": [
    "#  Name entity recognition  # NER"
   ]
  },
  {
   "cell_type": "code",
   "execution_count": 20,
   "id": "1bb269e3",
   "metadata": {},
   "outputs": [
    {
     "data": {
      "application/vnd.jupyter.widget-view+json": {
       "model_id": "c3b2fe52f90548c7b58a299b6ceacb05",
       "version_major": 2,
       "version_minor": 0
      },
      "text/plain": [
       "Downloading:   0%|          | 0.00/1.33G [00:00<?, ?B/s]"
      ]
     },
     "metadata": {},
     "output_type": "display_data"
    },
    {
     "data": {
      "text/plain": [
       "[{'entity': 'I-ORG',\n",
       "  'score': 0.9988007,\n",
       "  'index': 11,\n",
       "  'word': 'Hu',\n",
       "  'start': 27,\n",
       "  'end': 29},\n",
       " {'entity': 'I-ORG',\n",
       "  'score': 0.99271137,\n",
       "  'index': 12,\n",
       "  'word': '##gging',\n",
       "  'start': 29,\n",
       "  'end': 34},\n",
       " {'entity': 'I-ORG',\n",
       "  'score': 0.9977949,\n",
       "  'index': 13,\n",
       "  'word': '##F',\n",
       "  'start': 34,\n",
       "  'end': 35},\n",
       " {'entity': 'I-ORG',\n",
       "  'score': 0.9956417,\n",
       "  'index': 14,\n",
       "  'word': '##ace',\n",
       "  'start': 35,\n",
       "  'end': 38}]"
      ]
     },
     "execution_count": 20,
     "metadata": {},
     "output_type": "execute_result"
    }
   ],
   "source": [
    "nlp = pipeline('ner')\n",
    "nlp('It is me, otman, I work at HuggingFace')"
   ]
  },
  {
   "cell_type": "markdown",
   "id": "6e59b242",
   "metadata": {},
   "source": [
    "# Predicting Masks"
   ]
  },
  {
   "cell_type": "code",
   "execution_count": 24,
   "id": "a0d166f6",
   "metadata": {},
   "outputs": [
    {
     "data": {
      "text/plain": [
       "[{'sequence': 'I hope you enjoyed this video',\n",
       "  'score': 0.7073915600776672,\n",
       "  'token': 3776,\n",
       "  'token_str': ' enjoyed'},\n",
       " {'sequence': 'I hope you enjoy this video',\n",
       "  'score': 0.13673606514930725,\n",
       "  'token': 2254,\n",
       "  'token_str': ' enjoy'},\n",
       " {'sequence': 'I hope you liked this video',\n",
       "  'score': 0.1335308700799942,\n",
       "  'token': 6640,\n",
       "  'token_str': ' liked'},\n",
       " {'sequence': 'I hope you like this video',\n",
       "  'score': 0.005779130384325981,\n",
       "  'token': 101,\n",
       "  'token_str': ' like'},\n",
       " {'sequence': 'I hope you appreciated this video',\n",
       "  'score': 0.005615242291241884,\n",
       "  'token': 10874,\n",
       "  'token_str': ' appreciated'}]"
      ]
     },
     "execution_count": 24,
     "metadata": {},
     "output_type": "execute_result"
    }
   ],
   "source": [
    "nlp = pipeline('fill-mask')\n",
    "nlp('I hope you <mask> this video')"
   ]
  },
  {
   "cell_type": "code",
   "execution_count": 30,
   "id": "32779daf",
   "metadata": {},
   "outputs": [
    {
     "data": {
      "text/plain": [
       "[{'sequence': ' آمل أن يعجبكة هذا الفيديو ',\n",
       "  'score': 0.3754940629005432,\n",
       "  'token': 38419,\n",
       "  'token_str': 'ة'},\n",
       " {'sequence': ' آمل أن يعجبكا هذا الفيديو ',\n",
       "  'score': 0.2691783308982849,\n",
       "  'token': 29438,\n",
       "  'token_str': 'ا'},\n",
       " {'sequence': ' آمل أن يعجبكل هذا الفيديو ',\n",
       "  'score': 0.07041101157665253,\n",
       "  'token': 30992,\n",
       "  'token_str': 'ل'},\n",
       " {'sequence': ' آمل أن يعجبكي هذا الفيديو ',\n",
       "  'score': 0.05075579509139061,\n",
       "  'token': 26174,\n",
       "  'token_str': 'ي'},\n",
       " {'sequence': ' آمل أن يعجبكن هذا الفيديو ',\n",
       "  'score': 0.039414819329977036,\n",
       "  'token': 31746,\n",
       "  'token_str': 'ن'}]"
      ]
     },
     "execution_count": 30,
     "metadata": {},
     "output_type": "execute_result"
    }
   ],
   "source": [
    "nlp = pipeline('fill-mask')\n",
    "nlp(' آمل أن يعجبك<mask> هذا الفيديو ')"
   ]
  },
  {
   "cell_type": "markdown",
   "id": "613d0d02",
   "metadata": {},
   "source": [
    " "
   ]
  },
  {
   "cell_type": "code",
   "execution_count": null,
   "id": "2ec90b6a",
   "metadata": {},
   "outputs": [],
   "source": [
    " "
   ]
  },
  {
   "cell_type": "markdown",
   "id": "22c46d2a",
   "metadata": {},
   "source": [
    " "
   ]
  },
  {
   "cell_type": "code",
   "execution_count": 83,
   "id": "ea008744",
   "metadata": {},
   "outputs": [],
   "source": [
    " "
   ]
  },
  {
   "cell_type": "code",
   "execution_count": null,
   "id": "be03b322",
   "metadata": {},
   "outputs": [],
   "source": [
    " "
   ]
  },
  {
   "cell_type": "code",
   "execution_count": null,
   "id": "76cfbf33",
   "metadata": {},
   "outputs": [],
   "source": []
  },
  {
   "cell_type": "markdown",
   "id": "64514e01",
   "metadata": {},
   "source": [
    "# English to German Translation¶"
   ]
  },
  {
   "cell_type": "code",
   "execution_count": 36,
   "id": "f9886af0",
   "metadata": {},
   "outputs": [],
   "source": [
    "from transformers import pipeline"
   ]
  },
  {
   "cell_type": "code",
   "execution_count": 37,
   "id": "15f7229d",
   "metadata": {},
   "outputs": [
    {
     "data": {
      "application/vnd.jupyter.widget-view+json": {
       "model_id": "b0d297c76f00431aa2fafb87c3e278d7",
       "version_major": 2,
       "version_minor": 0
      },
      "text/plain": [
       "Downloading:   0%|          | 0.00/892M [00:00<?, ?B/s]"
      ]
     },
     "metadata": {},
     "output_type": "display_data"
    }
   ],
   "source": [
    "translation = pipeline(\"translation_en_to_de\")"
   ]
  },
  {
   "cell_type": "code",
   "execution_count": 38,
   "id": "9ee14447",
   "metadata": {},
   "outputs": [],
   "source": [
    "text = \"I like to study Data Science and Machine Learning\""
   ]
  },
  {
   "cell_type": "code",
   "execution_count": 41,
   "id": "0ea7dbed",
   "metadata": {},
   "outputs": [
    {
     "name": "stdout",
     "output_type": "stream",
     "text": [
      "Ich studiere gerne Datenwissenschaft und maschinelles Lernen\n"
     ]
    }
   ],
   "source": [
    "translated_text = translation(text, max_length=40)[0]['translation_text']\n",
    "print(translated_text)"
   ]
  },
  {
   "cell_type": "markdown",
   "id": "87e57f99",
   "metadata": {},
   "source": [
    "# Translation (e.g. English to Chinese)"
   ]
  },
  {
   "cell_type": "code",
   "execution_count": 42,
   "id": "39c6cf7f",
   "metadata": {},
   "outputs": [
    {
     "name": "stderr",
     "output_type": "stream",
     "text": [
      "C:\\Users\\DELL\\anaconda3\\lib\\site-packages\\transformers\\models\\auto\\modeling_auto.py:898: FutureWarning: The class `AutoModelWithLMHead` is deprecated and will be removed in a future version. Please use `AutoModelForCausalLM` for causal language models, `AutoModelForMaskedLM` for masked language models and `AutoModelForSeq2SeqLM` for encoder-decoder models.\n",
      "  warnings.warn(\n"
     ]
    },
    {
     "data": {
      "application/vnd.jupyter.widget-view+json": {
       "model_id": "7a9adfe0f9954dac95520cc646ad3937",
       "version_major": 2,
       "version_minor": 0
      },
      "text/plain": [
       "Downloading:   0%|          | 0.00/1.40k [00:00<?, ?B/s]"
      ]
     },
     "metadata": {},
     "output_type": "display_data"
    },
    {
     "data": {
      "application/vnd.jupyter.widget-view+json": {
       "model_id": "8e377df84bee456f8849950b7404b7dd",
       "version_major": 2,
       "version_minor": 0
      },
      "text/plain": [
       "Downloading:   0%|          | 0.00/312M [00:00<?, ?B/s]"
      ]
     },
     "metadata": {},
     "output_type": "display_data"
    },
    {
     "data": {
      "application/vnd.jupyter.widget-view+json": {
       "model_id": "ffdcf4435f8849318665a27b33275786",
       "version_major": 2,
       "version_minor": 0
      },
      "text/plain": [
       "Downloading:   0%|          | 0.00/44.0 [00:00<?, ?B/s]"
      ]
     },
     "metadata": {},
     "output_type": "display_data"
    },
    {
     "data": {
      "application/vnd.jupyter.widget-view+json": {
       "model_id": "336e4f0464cc4fbba3823946410d60ba",
       "version_major": 2,
       "version_minor": 0
      },
      "text/plain": [
       "Downloading:   0%|          | 0.00/806k [00:00<?, ?B/s]"
      ]
     },
     "metadata": {},
     "output_type": "display_data"
    },
    {
     "data": {
      "application/vnd.jupyter.widget-view+json": {
       "model_id": "99e6cefc553b431abc957e3291642cd4",
       "version_major": 2,
       "version_minor": 0
      },
      "text/plain": [
       "Downloading:   0%|          | 0.00/805k [00:00<?, ?B/s]"
      ]
     },
     "metadata": {},
     "output_type": "display_data"
    },
    {
     "data": {
      "application/vnd.jupyter.widget-view+json": {
       "model_id": "af22de43fac04a52b0c6de56cc3ddcca",
       "version_major": 2,
       "version_minor": 0
      },
      "text/plain": [
       "Downloading:   0%|          | 0.00/1.62M [00:00<?, ?B/s]"
      ]
     },
     "metadata": {},
     "output_type": "display_data"
    }
   ],
   "source": [
    "from transformers import AutoModelWithLMHead, AutoTokenizer\n",
    "\n",
    "model = AutoModelWithLMHead.from_pretrained(\"Helsinki-NLP/opus-mt-en-zh\")\n",
    "tokenizer = AutoTokenizer.from_pretrained(\"Helsinki-NLP/opus-mt-en-zh\")"
   ]
  },
  {
   "cell_type": "code",
   "execution_count": 43,
   "id": "b9fd702e",
   "metadata": {},
   "outputs": [],
   "source": [
    "translation = pipeline(\"translation_en_to_zh\", model=model, tokenizer=tokenizer)"
   ]
  },
  {
   "cell_type": "code",
   "execution_count": 44,
   "id": "d4caa6ee",
   "metadata": {},
   "outputs": [],
   "source": [
    "text = \"I like to study Data Science and Machine Learning\""
   ]
  },
  {
   "cell_type": "code",
   "execution_count": 45,
   "id": "19cd1370",
   "metadata": {},
   "outputs": [
    {
     "name": "stdout",
     "output_type": "stream",
     "text": [
      "我喜欢学习数据科学和机器学习\n"
     ]
    }
   ],
   "source": [
    "translated_text = translation(text, max_length=40)[0]['translation_text']\n",
    "print(translated_text)"
   ]
  },
  {
   "cell_type": "markdown",
   "id": "d7fe1517",
   "metadata": {},
   "source": [
    "# Text generation"
   ]
  },
  {
   "cell_type": "code",
   "execution_count": 51,
   "id": "aabda796",
   "metadata": {},
   "outputs": [
    {
     "name": "stderr",
     "output_type": "stream",
     "text": [
      "Setting `pad_token_id` to `eos_token_id`:50256 for open-end generation.\n"
     ]
    },
    {
     "data": {
      "text/plain": [
       "[{'generated_text': \"Hello, I'm a language model, I create the model and it is not what I want as a programming language. It is what I use to\"},\n",
       " {'generated_text': \"Hello, I'm a language model, and I feel like I'm the only person with such a strong sense of language ability or such an understanding for\"},\n",
       " {'generated_text': \"Hello, I'm a language model, so I can make sense of this syntax and do other things.\\n\\nIn languages like Swift and C#\"},\n",
       " {'generated_text': \"Hello, I'm a language model, a tool, a kind of humanist. In this case, I'm just a person who wants to give\"}]"
      ]
     },
     "execution_count": 51,
     "metadata": {},
     "output_type": "execute_result"
    }
   ],
   "source": [
    "from transformers import pipeline, set_seed\n",
    "generator = pipeline('text-generation', model='gpt2')\n",
    "set_seed(42)\n",
    "generator(\"Hello, I'm a language model,\", max_length=30, num_return_sequences=4)\n",
    "\n"
   ]
  },
  {
   "cell_type": "code",
   "execution_count": 52,
   "id": "c648efa6",
   "metadata": {},
   "outputs": [
    {
     "name": "stderr",
     "output_type": "stream",
     "text": [
      "Setting `pad_token_id` to `eos_token_id`:50256 for open-end generation.\n"
     ]
    },
    {
     "data": {
      "text/plain": [
       "[{'generated_text': 'bonjour,Je suis étudiant,Je se revève.\\n\\nJe suis étudiant et cette'},\n",
       " {'generated_text': \"bonjour,Je suis étudiant,Cœur j'avoir des sieux et là vous s\"},\n",
       " {'generated_text': 'bonjour,Je suis étudiant, sordid, qui se retiro sont présenterant toutes t'},\n",
       " {'generated_text': \"bonjour,Je suis étudiant, avec vous voirez mohi, et qu'avait ich\"}]"
      ]
     },
     "execution_count": 52,
     "metadata": {},
     "output_type": "execute_result"
    }
   ],
   "source": [
    "from transformers import pipeline, set_seed\n",
    "generator = pipeline('text-generation', model='gpt2')\n",
    "set_seed(42)\n",
    "generator(\"bonjour,Je suis étudiant,\", max_length=30, num_return_sequences=4)"
   ]
  },
  {
   "cell_type": "code",
   "execution_count": null,
   "id": "467c02ae",
   "metadata": {},
   "outputs": [],
   "source": [
    " "
   ]
  },
  {
   "cell_type": "code",
   "execution_count": null,
   "id": "fdc0de79",
   "metadata": {},
   "outputs": [],
   "source": []
  }
 ],
 "metadata": {
  "kernelspec": {
   "display_name": "Python 3",
   "language": "python",
   "name": "python3"
  },
  "language_info": {
   "codemirror_mode": {
    "name": "ipython",
    "version": 3
   },
   "file_extension": ".py",
   "mimetype": "text/x-python",
   "name": "python",
   "nbconvert_exporter": "python",
   "pygments_lexer": "ipython3",
   "version": "3.8.8"
  }
 },
 "nbformat": 4,
 "nbformat_minor": 5
}
