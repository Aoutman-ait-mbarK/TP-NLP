{
 "cells": [
  {
   "cell_type": "markdown",
   "id": "e7554fbf",
   "metadata": {},
   "source": [
    "What does Tfidf Vectorizer do?\n",
    "\n",
    "Without going into the math, TF-IDF are word frequency scores that try to highlight words that are more interesting, e.g. frequent in a document but not across documents. The TfidfVectorizer will tokenize documents, learn the vocabulary and inverse document frequency weightings, and allow you to encode new documents."
   ]
  },
  {
   "cell_type": "code",
   "execution_count": 43,
   "id": "4e9260b5",
   "metadata": {},
   "outputs": [],
   "source": [
    "from sklearn.feature_extraction.text import TfidfVectorizer"
   ]
  },
  {
   "cell_type": "code",
   "execution_count": 44,
   "id": "2d4ac4ff",
   "metadata": {},
   "outputs": [],
   "source": [
    "docA = \"The car is driven on the road\"\n",
    "docB = \"The truck is driven on the highway\""
   ]
  },
  {
   "cell_type": "code",
   "execution_count": 46,
   "id": "3561cc17",
   "metadata": {},
   "outputs": [],
   "source": [
    "tfidf = TfidfVectorizer()"
   ]
  },
  {
   "cell_type": "code",
   "execution_count": 47,
   "id": "42e5234f",
   "metadata": {},
   "outputs": [],
   "source": [
    "response = tfidf.fit_transform([docA, docB])"
   ]
  },
  {
   "cell_type": "code",
   "execution_count": null,
   "id": "9f5078da",
   "metadata": {},
   "outputs": [],
   "source": [
    "#computes the TF score for each word in the corpus, by document."
   ]
  },
  {
   "cell_type": "code",
   "execution_count": null,
   "id": "737aabea",
   "metadata": {},
   "outputs": [],
   "source": [
    "feature_names = tfidf.get_feature_names()\n",
    "for col in response.nonzero()[1]:\n",
    "    print (feature_names[col], ' - ', response[0, col])"
   ]
  },
  {
   "cell_type": "code",
   "execution_count": null,
   "id": "b90955f1",
   "metadata": {},
   "outputs": [],
   "source": []
  },
  {
   "cell_type": "markdown",
   "id": "838489f5",
   "metadata": {},
   "source": [
    "# Count Word"
   ]
  },
  {
   "cell_type": "markdown",
   "id": "0ef48ba0",
   "metadata": {},
   "source": [
    "to start using TfidfTransformer you will first have to create a countVecorizer to count the number of words (term ferquecy) limit your vocabulary size, apply stop words and etc the code below does just that."
   ]
  },
  {
   "cell_type": "code",
   "execution_count": 12,
   "id": "ccaabc6c",
   "metadata": {},
   "outputs": [],
   "source": [
    "import pandas as pd\n",
    "from sklearn.feature_extraction.text import TfidfTransformer,TfidfVectorizer,CountVectorizer\n",
    "docs = ['The sky is blue.','The sun is bright.']"
   ]
  },
  {
   "cell_type": "code",
   "execution_count": 13,
   "id": "70891d9b",
   "metadata": {},
   "outputs": [
    {
     "data": {
      "text/plain": [
       "(2, 6)"
      ]
     },
     "execution_count": 13,
     "metadata": {},
     "output_type": "execute_result"
    }
   ],
   "source": [
    "cv=CountVectorizer()\n",
    "#this step generate word counts for the words in your docs\n",
    "word_count_vector=cv.fit_transform(docs)\n",
    "word_count_vector.shape"
   ]
  },
  {
   "cell_type": "code",
   "execution_count": 14,
   "id": "8b74fb4e",
   "metadata": {},
   "outputs": [],
   "source": [
    "#  2 sentence   6 word without duplicates"
   ]
  },
  {
   "cell_type": "code",
   "execution_count": 15,
   "id": "f354436d",
   "metadata": {},
   "outputs": [
    {
     "data": {
      "text/plain": [
       "(1, 83)"
      ]
     },
     "execution_count": 15,
     "metadata": {},
     "output_type": "execute_result"
    }
   ],
   "source": [
    "text=['Perhaps one of the most significant advances made by Arabic  mathematics began at this time with the work of al-Khwarizmi, namely the beginnings of algebra. It is important to understand just how significant this new idea was. It was a revolutionary move away from the Greek concept of mathematics which was essentially geometry. Algebra was a unifying theory which allowed rational numbers,irrational numbers, geometrical magnitudes, etc., to all be treated as \\\"algebraic objects\\\". It gave mathematics a whole new development path so much broader in concept to that which had existed before, and provided a vehicle for future development of the subject. Another important aspect of the introduction of algebraic ideas was that it allowed mathematics to be applied to itselfin a way which had not happened before.']\n",
    "cv=CountVectorizer()\n",
    "#this step generate word counts for the words in your docs\n",
    "word_count_vector=cv.fit_transform(text)\n",
    "word_count_vector.shape"
   ]
  },
  {
   "cell_type": "code",
   "execution_count": 16,
   "id": "3467d3fe",
   "metadata": {},
   "outputs": [],
   "source": [
    "#83 word"
   ]
  },
  {
   "cell_type": "markdown",
   "id": "d3f080a7",
   "metadata": {},
   "source": [
    "# Tokenizing-bag of words"
   ]
  },
  {
   "cell_type": "code",
   "execution_count": 27,
   "id": "80d7a621",
   "metadata": {},
   "outputs": [],
   "source": [
    "docs1=\"Perhaps one of the most significant advances made by Arabic  mathematics began at this time with the work of al-Khwarizmi\"\n",
    "docs2= \"namely the beginnings of algebra. It is important to understand just how significant this new idea was\"\n",
    "tf=docs1.split(\" \")\n",
    "idf=docs2.split(\" \")"
   ]
  },
  {
   "cell_type": "code",
   "execution_count": 28,
   "id": "2448e664",
   "metadata": {},
   "outputs": [
    {
     "data": {
      "text/plain": [
       "['Perhaps',\n",
       " 'one',\n",
       " 'of',\n",
       " 'the',\n",
       " 'most',\n",
       " 'significant',\n",
       " 'advances',\n",
       " 'made',\n",
       " 'by',\n",
       " 'Arabic',\n",
       " '',\n",
       " 'mathematics',\n",
       " 'began',\n",
       " 'at',\n",
       " 'this',\n",
       " 'time',\n",
       " 'with',\n",
       " 'the',\n",
       " 'work',\n",
       " 'of',\n",
       " 'al-Khwarizmi']"
      ]
     },
     "execution_count": 28,
     "metadata": {},
     "output_type": "execute_result"
    }
   ],
   "source": [
    "tf"
   ]
  },
  {
   "cell_type": "code",
   "execution_count": 29,
   "id": "b4278a46",
   "metadata": {},
   "outputs": [],
   "source": [
    "wordSet=set(tf).union(set(idf))"
   ]
  },
  {
   "cell_type": "code",
   "execution_count": 30,
   "id": "bcc43a3e",
   "metadata": {},
   "outputs": [
    {
     "data": {
      "text/plain": [
       "{'',\n",
       " 'Arabic',\n",
       " 'It',\n",
       " 'Perhaps',\n",
       " 'advances',\n",
       " 'al-Khwarizmi',\n",
       " 'algebra.',\n",
       " 'at',\n",
       " 'began',\n",
       " 'beginnings',\n",
       " 'by',\n",
       " 'how',\n",
       " 'idea',\n",
       " 'important',\n",
       " 'is',\n",
       " 'just',\n",
       " 'made',\n",
       " 'mathematics',\n",
       " 'most',\n",
       " 'namely',\n",
       " 'new',\n",
       " 'of',\n",
       " 'one',\n",
       " 'significant',\n",
       " 'the',\n",
       " 'this',\n",
       " 'time',\n",
       " 'to',\n",
       " 'understand',\n",
       " 'was',\n",
       " 'with',\n",
       " 'work'}"
      ]
     },
     "execution_count": 30,
     "metadata": {},
     "output_type": "execute_result"
    }
   ],
   "source": [
    "#all words in  documents\n",
    "wordSet"
   ]
  },
  {
   "cell_type": "code",
   "execution_count": 31,
   "id": "54afc142",
   "metadata": {},
   "outputs": [],
   "source": [
    "#i'll creat dictionarie to keep my word counts\n",
    "worddictA=dict.fromkeys(wordSet,0)\n",
    "worddictB=dict.fromkeys(wordSet,0)\n"
   ]
  },
  {
   "cell_type": "code",
   "execution_count": 32,
   "id": "5bd521f2",
   "metadata": {},
   "outputs": [
    {
     "data": {
      "text/plain": [
       "{'': 0,\n",
       " 'mathematics': 0,\n",
       " 'to': 0,\n",
       " 'algebra.': 0,\n",
       " 'at': 0,\n",
       " 'It': 0,\n",
       " 'the': 0,\n",
       " 'al-Khwarizmi': 0,\n",
       " 'most': 0,\n",
       " 'by': 0,\n",
       " 'is': 0,\n",
       " 'idea': 0,\n",
       " 'namely': 0,\n",
       " 'work': 0,\n",
       " 'understand': 0,\n",
       " 'made': 0,\n",
       " 'beginnings': 0,\n",
       " 'significant': 0,\n",
       " 'one': 0,\n",
       " 'new': 0,\n",
       " 'time': 0,\n",
       " 'how': 0,\n",
       " 'with': 0,\n",
       " 'important': 0,\n",
       " 'was': 0,\n",
       " 'Perhaps': 0,\n",
       " 'Arabic': 0,\n",
       " 'of': 0,\n",
       " 'just': 0,\n",
       " 'began': 0,\n",
       " 'this': 0,\n",
       " 'advances': 0}"
      ]
     },
     "execution_count": 32,
     "metadata": {},
     "output_type": "execute_result"
    }
   ],
   "source": [
    " \n",
    "worddictA"
   ]
  },
  {
   "cell_type": "code",
   "execution_count": 50,
   "id": "2d589c3d",
   "metadata": {},
   "outputs": [],
   "source": [
    "for word in tf:\n",
    "    worddictA[word]+=1    \n",
    "for word in idf:\n",
    "    worddictB[word]+=1 "
   ]
  },
  {
   "cell_type": "code",
   "execution_count": 35,
   "id": "4a5ae4b8",
   "metadata": {},
   "outputs": [
    {
     "data": {
      "text/plain": [
       "{'': 1,\n",
       " 'mathematics': 1,\n",
       " 'to': 0,\n",
       " 'algebra.': 0,\n",
       " 'at': 1,\n",
       " 'It': 0,\n",
       " 'the': 2,\n",
       " 'al-Khwarizmi': 1,\n",
       " 'most': 1,\n",
       " 'by': 1,\n",
       " 'is': 0,\n",
       " 'idea': 0,\n",
       " 'namely': 0,\n",
       " 'work': 1,\n",
       " 'understand': 0,\n",
       " 'made': 1,\n",
       " 'beginnings': 0,\n",
       " 'significant': 1,\n",
       " 'one': 1,\n",
       " 'new': 0,\n",
       " 'time': 1,\n",
       " 'how': 0,\n",
       " 'with': 1,\n",
       " 'important': 0,\n",
       " 'was': 0,\n",
       " 'Perhaps': 1,\n",
       " 'Arabic': 1,\n",
       " 'of': 2,\n",
       " 'just': 0,\n",
       " 'began': 1,\n",
       " 'this': 1,\n",
       " 'advances': 1}"
      ]
     },
     "execution_count": 35,
     "metadata": {},
     "output_type": "execute_result"
    }
   ],
   "source": [
    "worddictA"
   ]
  },
  {
   "cell_type": "code",
   "execution_count": 52,
   "id": "d738b683",
   "metadata": {},
   "outputs": [
    {
     "data": {
      "text/html": [
       "<div>\n",
       "<style scoped>\n",
       "    .dataframe tbody tr th:only-of-type {\n",
       "        vertical-align: middle;\n",
       "    }\n",
       "\n",
       "    .dataframe tbody tr th {\n",
       "        vertical-align: top;\n",
       "    }\n",
       "\n",
       "    .dataframe thead th {\n",
       "        text-align: right;\n",
       "    }\n",
       "</style>\n",
       "<table border=\"1\" class=\"dataframe\">\n",
       "  <thead>\n",
       "    <tr style=\"text-align: right;\">\n",
       "      <th></th>\n",
       "      <th></th>\n",
       "      <th>mathematics</th>\n",
       "      <th>to</th>\n",
       "      <th>algebra.</th>\n",
       "      <th>at</th>\n",
       "      <th>It</th>\n",
       "      <th>the</th>\n",
       "      <th>al-Khwarizmi</th>\n",
       "      <th>most</th>\n",
       "      <th>by</th>\n",
       "      <th>...</th>\n",
       "      <th>with</th>\n",
       "      <th>important</th>\n",
       "      <th>was</th>\n",
       "      <th>Perhaps</th>\n",
       "      <th>Arabic</th>\n",
       "      <th>of</th>\n",
       "      <th>just</th>\n",
       "      <th>began</th>\n",
       "      <th>this</th>\n",
       "      <th>advances</th>\n",
       "    </tr>\n",
       "  </thead>\n",
       "  <tbody>\n",
       "    <tr>\n",
       "      <th>0</th>\n",
       "      <td>3</td>\n",
       "      <td>3</td>\n",
       "      <td>0</td>\n",
       "      <td>0</td>\n",
       "      <td>3</td>\n",
       "      <td>0</td>\n",
       "      <td>6</td>\n",
       "      <td>3</td>\n",
       "      <td>3</td>\n",
       "      <td>3</td>\n",
       "      <td>...</td>\n",
       "      <td>3</td>\n",
       "      <td>0</td>\n",
       "      <td>0</td>\n",
       "      <td>3</td>\n",
       "      <td>3</td>\n",
       "      <td>6</td>\n",
       "      <td>0</td>\n",
       "      <td>3</td>\n",
       "      <td>3</td>\n",
       "      <td>3</td>\n",
       "    </tr>\n",
       "    <tr>\n",
       "      <th>1</th>\n",
       "      <td>0</td>\n",
       "      <td>0</td>\n",
       "      <td>1</td>\n",
       "      <td>1</td>\n",
       "      <td>0</td>\n",
       "      <td>1</td>\n",
       "      <td>1</td>\n",
       "      <td>0</td>\n",
       "      <td>0</td>\n",
       "      <td>0</td>\n",
       "      <td>...</td>\n",
       "      <td>0</td>\n",
       "      <td>1</td>\n",
       "      <td>1</td>\n",
       "      <td>0</td>\n",
       "      <td>0</td>\n",
       "      <td>1</td>\n",
       "      <td>1</td>\n",
       "      <td>0</td>\n",
       "      <td>1</td>\n",
       "      <td>0</td>\n",
       "    </tr>\n",
       "  </tbody>\n",
       "</table>\n",
       "<p>2 rows × 32 columns</p>\n",
       "</div>"
      ],
      "text/plain": [
       "      mathematics  to  algebra.  at  It  the  al-Khwarizmi  most  by  ...  \\\n",
       "0  3            3   0         0   3   0    6             3     3   3  ...   \n",
       "1  0            0   1         1   0   1    1             0     0   0  ...   \n",
       "\n",
       "   with  important  was  Perhaps  Arabic  of  just  began  this  advances  \n",
       "0     3          0    0        3       3   6     0      3     3         3  \n",
       "1     0          1    1        0       0   1     1      0     1         0  \n",
       "\n",
       "[2 rows x 32 columns]"
      ]
     },
     "execution_count": 52,
     "metadata": {},
     "output_type": "execute_result"
    }
   ],
   "source": [
    "import pandas as pd\n",
    "pd.DataFrame([worddictA, worddictB]) "
   ]
  },
  {
   "cell_type": "markdown",
   "id": "92bed8aa",
   "metadata": {},
   "source": [
    " We use dataframe when we need a high level of abstraction and for unstructured data, such as media streams or streams of text."
   ]
  },
  {
   "cell_type": "markdown",
   "id": "22e7684e",
   "metadata": {},
   "source": [
    "# compute Term Frequency"
   ]
  },
  {
   "cell_type": "code",
   "execution_count": 58,
   "id": "5d3da75b",
   "metadata": {},
   "outputs": [
    {
     "name": "stdout",
     "output_type": "stream",
     "text": [
      "{'': 0.14285714285714285, 'mathematics': 0.14285714285714285, 'to': 0.0, 'algebra.': 0.0, 'at': 0.14285714285714285, 'It': 0.0, 'the': 0.2857142857142857, 'al-Khwarizmi': 0.14285714285714285, 'most': 0.14285714285714285, 'by': 0.14285714285714285, 'is': 0.0, 'idea': 0.0, 'namely': 0.0, 'work': 0.14285714285714285, 'understand': 0.0, 'made': 0.14285714285714285, 'beginnings': 0.0, 'significant': 0.14285714285714285, 'one': 0.14285714285714285, 'new': 0.0, 'time': 0.14285714285714285, 'how': 0.0, 'with': 0.14285714285714285, 'important': 0.0, 'was': 0.0, 'Perhaps': 0.14285714285714285, 'Arabic': 0.14285714285714285, 'of': 0.2857142857142857, 'just': 0.0, 'began': 0.14285714285714285, 'this': 0.14285714285714285, 'advances': 0.14285714285714285}\n"
     ]
    }
   ],
   "source": [
    "def compute_term_frequency(word_dictionary,bag_of_words_a):\n",
    "    term_frequency_dictionary = {}\n",
    "    length_of_bag_of_words = len(tf)\n",
    "\n",
    "    for word, count in word_dictionary.items():\n",
    "        term_frequency_dictionary[word] = count / float(length_of_bag_of_words)\n",
    "\n",
    "    return term_frequency_dictionary\n",
    "\n",
    "# Implementation\n",
    "\n",
    "print(compute_term_frequency(worddictA,tf))\n",
    " "
   ]
  },
  {
   "cell_type": "markdown",
   "id": "b5ad77c0",
   "metadata": {},
   "source": [
    "# Inverse document frequency"
   ]
  },
  {
   "cell_type": "code",
   "execution_count": 61,
   "id": "c938e5f8",
   "metadata": {},
   "outputs": [
    {
     "name": "stdout",
     "output_type": "stream",
     "text": [
      "{'': 0.6931471805599453, 'mathematics': 0.6931471805599453, 'to': 0.6931471805599453, 'algebra.': 0.6931471805599453, 'at': 0.6931471805599453, 'It': 0.6931471805599453, 'the': 0.6931471805599453, 'al-Khwarizmi': 0.6931471805599453, 'most': 0.6931471805599453, 'by': 0.6931471805599453, 'is': 0.6931471805599453, 'idea': 0.6931471805599453, 'namely': 0.6931471805599453, 'work': 0.6931471805599453, 'understand': 0.6931471805599453, 'made': 0.6931471805599453, 'beginnings': 0.6931471805599453, 'significant': 0.6931471805599453, 'one': 0.6931471805599453, 'new': 0.6931471805599453, 'time': 0.6931471805599453, 'how': 0.6931471805599453, 'with': 0.6931471805599453, 'important': 0.6931471805599453, 'was': 0.6931471805599453, 'Perhaps': 0.6931471805599453, 'Arabic': 0.6931471805599453, 'of': 0.6931471805599453, 'just': 0.6931471805599453, 'began': 0.6931471805599453, 'this': 0.6931471805599453, 'advances': 0.6931471805599453}\n"
     ]
    }
   ],
   "source": [
    "import math\n",
    "\n",
    "def compute_inverse_document_frequency(full_doc_list):\n",
    "    idf_dict = {}\n",
    "    length_of_doc_list = len(full_doc_list)\n",
    "\n",
    "    idf_dict = dict.fromkeys(full_doc_list[0].keys(), 0)\n",
    "    for word, value in idf_dict.items():\n",
    "        idf_dict[word] = math.log(length_of_doc_list / (float(value) + 1))\n",
    "\n",
    "    return idf_dict\n",
    "\n",
    "final_idf_dict = compute_inverse_document_frequency([worddictA, worddictB])\n",
    "print(final_idf_dict)"
   ]
  },
  {
   "cell_type": "code",
   "execution_count": 63,
   "id": "820a964e",
   "metadata": {},
   "outputs": [],
   "source": [
    " "
   ]
  },
  {
   "cell_type": "code",
   "execution_count": null,
   "id": "fda036ea",
   "metadata": {},
   "outputs": [],
   "source": []
  }
 ],
 "metadata": {
  "kernelspec": {
   "display_name": "Python 3",
   "language": "python",
   "name": "python3"
  },
  "language_info": {
   "codemirror_mode": {
    "name": "ipython",
    "version": 3
   },
   "file_extension": ".py",
   "mimetype": "text/x-python",
   "name": "python",
   "nbconvert_exporter": "python",
   "pygments_lexer": "ipython3",
   "version": "3.8.8"
  }
 },
 "nbformat": 4,
 "nbformat_minor": 5
}
