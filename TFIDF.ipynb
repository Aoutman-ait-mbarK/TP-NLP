{
 "cells": [
  {
   "cell_type": "markdown",
   "id": "8592db88",
   "metadata": {},
   "source": [
    "What does Tfidf Vectorizer do?\n",
    "\n",
    "Without going into the math, TF-IDF are word frequency scores that try to highlight words that are more interesting, e.g. frequent in a document but not across documents. The TfidfVectorizer will tokenize documents, learn the vocabulary and inverse document frequency weightings, and allow you to encode new documents."
   ]
  },
  {
   "cell_type": "code",
   "execution_count": 64,
   "id": "d6dce382",
   "metadata": {},
   "outputs": [],
   "source": [
    "from sklearn.feature_extraction.text import TfidfVectorizer"
   ]
  },
  {
   "cell_type": "code",
   "execution_count": 65,
   "id": "a195deda",
   "metadata": {},
   "outputs": [],
   "source": [
    "docA = \"The car is driven on the road\"\n",
    "docB = \"The truck is driven on the highway\""
   ]
  },
  {
   "cell_type": "code",
   "execution_count": 66,
   "id": "fd279558",
   "metadata": {},
   "outputs": [],
   "source": [
    "tfidf = TfidfVectorizer()"
   ]
  },
  {
   "cell_type": "code",
   "execution_count": 67,
   "id": "42585c42",
   "metadata": {},
   "outputs": [],
   "source": [
    "response = tfidf.fit_transform([docA, docB])"
   ]
  },
  {
   "cell_type": "code",
   "execution_count": 68,
   "id": "20400496",
   "metadata": {},
   "outputs": [],
   "source": [
    "#computes the TF score for each word in the corpus, by document."
   ]
  },
  {
   "cell_type": "code",
   "execution_count": 69,
   "id": "41eb8070",
   "metadata": {},
   "outputs": [
    {
     "name": "stdout",
     "output_type": "stream",
     "text": [
      "road  -  0.42471718586982765\n",
      "on  -  0.30218977576862155\n",
      "driven  -  0.30218977576862155\n",
      "is  -  0.30218977576862155\n",
      "car  -  0.42471718586982765\n",
      "the  -  0.6043795515372431\n",
      "highway  -  0.0\n",
      "truck  -  0.0\n",
      "on  -  0.30218977576862155\n",
      "driven  -  0.30218977576862155\n",
      "is  -  0.30218977576862155\n",
      "the  -  0.6043795515372431\n"
     ]
    }
   ],
   "source": [
    "feature_names = tfidf.get_feature_names()\n",
    "for col in response.nonzero()[1]:\n",
    "    print (feature_names[col], ' - ', response[0, col])"
   ]
  },
  {
   "cell_type": "code",
   "execution_count": null,
   "id": "121f64ca",
   "metadata": {},
   "outputs": [],
   "source": []
  },
  {
   "cell_type": "markdown",
   "id": "a3d1f7dd",
   "metadata": {},
   "source": [
    "# Count Word"
   ]
  },
  {
   "cell_type": "markdown",
   "id": "7a83abdd",
   "metadata": {},
   "source": [
    "to start using TfidfTransformer you will first have to create a countVecorizer to count the number of words (term ferquecy) limit your vocabulary size, apply stop words and etc the code below does just that."
   ]
  },
  {
   "cell_type": "code",
   "execution_count": 70,
   "id": "539de69d",
   "metadata": {},
   "outputs": [],
   "source": [
    "import pandas as pd\n",
    "from sklearn.feature_extraction.text import TfidfTransformer,TfidfVectorizer,CountVectorizer\n",
    "docs = ['The sky is blue.','The sun is bright.']"
   ]
  },
  {
   "cell_type": "code",
   "execution_count": 71,
   "id": "1e5689d5",
   "metadata": {},
   "outputs": [
    {
     "data": {
      "text/plain": [
       "(2, 6)"
      ]
     },
     "execution_count": 71,
     "metadata": {},
     "output_type": "execute_result"
    }
   ],
   "source": [
    "cv=CountVectorizer()\n",
    "#this step generate word counts for the words in your docs\n",
    "word_count_vector=cv.fit_transform(docs)\n",
    "word_count_vector.shape"
   ]
  },
  {
   "cell_type": "code",
   "execution_count": 72,
   "id": "e0521219",
   "metadata": {},
   "outputs": [],
   "source": [
    "#  2 sentence   6 word without duplicates"
   ]
  },
  {
   "cell_type": "code",
   "execution_count": 73,
   "id": "c3be2ad5",
   "metadata": {},
   "outputs": [
    {
     "data": {
      "text/plain": [
       "(1, 83)"
      ]
     },
     "execution_count": 73,
     "metadata": {},
     "output_type": "execute_result"
    }
   ],
   "source": [
    "text=['Perhaps one of the most significant advances made by Arabic  mathematics began at this time with the work of al-Khwarizmi, namely the beginnings of algebra. It is important to understand just how significant this new idea was. It was a revolutionary move away from the Greek concept of mathematics which was essentially geometry. Algebra was a unifying theory which allowed rational numbers,irrational numbers, geometrical magnitudes, etc., to all be treated as \\\"algebraic objects\\\". It gave mathematics a whole new development path so much broader in concept to that which had existed before, and provided a vehicle for future development of the subject. Another important aspect of the introduction of algebraic ideas was that it allowed mathematics to be applied to itselfin a way which had not happened before.']\n",
    "cv=CountVectorizer()\n",
    "#this step generate word counts for the words in your docs\n",
    "word_count_vector=cv.fit_transform(text)\n",
    "word_count_vector.shape"
   ]
  },
  {
   "cell_type": "code",
   "execution_count": 74,
   "id": "f8feac69",
   "metadata": {},
   "outputs": [],
   "source": [
    "#83 word"
   ]
  },
  {
   "cell_type": "markdown",
   "id": "1e86400d",
   "metadata": {},
   "source": [
    "# Tokenizing-bag of words"
   ]
  },
  {
   "cell_type": "code",
   "execution_count": 75,
   "id": "d7ddf0fe",
   "metadata": {},
   "outputs": [],
   "source": [
    "docs1=\"Perhaps one of the most significant advances made by Arabic  mathematics began at this time with the work of al-Khwarizmi\"\n",
    "docs2= \"namely the beginnings of algebra. It is important to understand just how significant this new idea was\"\n",
    "tf=docs1.split(\" \")\n",
    "idf=docs2.split(\" \")"
   ]
  },
  {
   "cell_type": "code",
   "execution_count": 76,
   "id": "94f821a0",
   "metadata": {},
   "outputs": [
    {
     "data": {
      "text/plain": [
       "['Perhaps',\n",
       " 'one',\n",
       " 'of',\n",
       " 'the',\n",
       " 'most',\n",
       " 'significant',\n",
       " 'advances',\n",
       " 'made',\n",
       " 'by',\n",
       " 'Arabic',\n",
       " '',\n",
       " 'mathematics',\n",
       " 'began',\n",
       " 'at',\n",
       " 'this',\n",
       " 'time',\n",
       " 'with',\n",
       " 'the',\n",
       " 'work',\n",
       " 'of',\n",
       " 'al-Khwarizmi']"
      ]
     },
     "execution_count": 76,
     "metadata": {},
     "output_type": "execute_result"
    }
   ],
   "source": [
    "tf"
   ]
  },
  {
   "cell_type": "code",
   "execution_count": 77,
   "id": "c0eecd0d",
   "metadata": {},
   "outputs": [],
   "source": [
    "wordSet=set(tf).union(set(idf))"
   ]
  },
  {
   "cell_type": "code",
   "execution_count": 78,
   "id": "7a5728fd",
   "metadata": {},
   "outputs": [
    {
     "data": {
      "text/plain": [
       "{'',\n",
       " 'Arabic',\n",
       " 'It',\n",
       " 'Perhaps',\n",
       " 'advances',\n",
       " 'al-Khwarizmi',\n",
       " 'algebra.',\n",
       " 'at',\n",
       " 'began',\n",
       " 'beginnings',\n",
       " 'by',\n",
       " 'how',\n",
       " 'idea',\n",
       " 'important',\n",
       " 'is',\n",
       " 'just',\n",
       " 'made',\n",
       " 'mathematics',\n",
       " 'most',\n",
       " 'namely',\n",
       " 'new',\n",
       " 'of',\n",
       " 'one',\n",
       " 'significant',\n",
       " 'the',\n",
       " 'this',\n",
       " 'time',\n",
       " 'to',\n",
       " 'understand',\n",
       " 'was',\n",
       " 'with',\n",
       " 'work'}"
      ]
     },
     "execution_count": 78,
     "metadata": {},
     "output_type": "execute_result"
    }
   ],
   "source": [
    "#all words in  documents\n",
    "wordSet"
   ]
  },
  {
   "cell_type": "code",
   "execution_count": 79,
   "id": "4776a9b5",
   "metadata": {},
   "outputs": [],
   "source": [
    "#i'll creat dictionarie to keep my word counts\n",
    "worddictA=dict.fromkeys(wordSet,0)\n",
    "worddictB=dict.fromkeys(wordSet,0)\n"
   ]
  },
  {
   "cell_type": "code",
   "execution_count": 80,
   "id": "c41b2d1a",
   "metadata": {},
   "outputs": [
    {
     "data": {
      "text/plain": [
       "{'': 0,\n",
       " 'mathematics': 0,\n",
       " 'to': 0,\n",
       " 'algebra.': 0,\n",
       " 'at': 0,\n",
       " 'It': 0,\n",
       " 'the': 0,\n",
       " 'al-Khwarizmi': 0,\n",
       " 'most': 0,\n",
       " 'by': 0,\n",
       " 'is': 0,\n",
       " 'idea': 0,\n",
       " 'namely': 0,\n",
       " 'work': 0,\n",
       " 'understand': 0,\n",
       " 'made': 0,\n",
       " 'beginnings': 0,\n",
       " 'significant': 0,\n",
       " 'one': 0,\n",
       " 'new': 0,\n",
       " 'time': 0,\n",
       " 'how': 0,\n",
       " 'with': 0,\n",
       " 'important': 0,\n",
       " 'was': 0,\n",
       " 'Perhaps': 0,\n",
       " 'Arabic': 0,\n",
       " 'of': 0,\n",
       " 'just': 0,\n",
       " 'began': 0,\n",
       " 'this': 0,\n",
       " 'advances': 0}"
      ]
     },
     "execution_count": 80,
     "metadata": {},
     "output_type": "execute_result"
    }
   ],
   "source": [
    " \n",
    "worddictA"
   ]
  },
  {
   "cell_type": "code",
   "execution_count": 81,
   "id": "ec646d8a",
   "metadata": {},
   "outputs": [],
   "source": [
    "for word in tf:\n",
    "    worddictA[word]+=1    \n",
    "for word in idf:\n",
    "    worddictB[word]+=1 "
   ]
  },
  {
   "cell_type": "code",
   "execution_count": 82,
   "id": "b6a8c7f3",
   "metadata": {},
   "outputs": [
    {
     "data": {
      "text/plain": [
       "{'': 1,\n",
       " 'mathematics': 1,\n",
       " 'to': 0,\n",
       " 'algebra.': 0,\n",
       " 'at': 1,\n",
       " 'It': 0,\n",
       " 'the': 2,\n",
       " 'al-Khwarizmi': 1,\n",
       " 'most': 1,\n",
       " 'by': 1,\n",
       " 'is': 0,\n",
       " 'idea': 0,\n",
       " 'namely': 0,\n",
       " 'work': 1,\n",
       " 'understand': 0,\n",
       " 'made': 1,\n",
       " 'beginnings': 0,\n",
       " 'significant': 1,\n",
       " 'one': 1,\n",
       " 'new': 0,\n",
       " 'time': 1,\n",
       " 'how': 0,\n",
       " 'with': 1,\n",
       " 'important': 0,\n",
       " 'was': 0,\n",
       " 'Perhaps': 1,\n",
       " 'Arabic': 1,\n",
       " 'of': 2,\n",
       " 'just': 0,\n",
       " 'began': 1,\n",
       " 'this': 1,\n",
       " 'advances': 1}"
      ]
     },
     "execution_count": 82,
     "metadata": {},
     "output_type": "execute_result"
    }
   ],
   "source": [
    "worddictA"
   ]
  },
  {
   "cell_type": "code",
   "execution_count": 83,
   "id": "9dd42d88",
   "metadata": {},
   "outputs": [
    {
     "data": {
      "text/html": [
       "<div>\n",
       "<style scoped>\n",
       "    .dataframe tbody tr th:only-of-type {\n",
       "        vertical-align: middle;\n",
       "    }\n",
       "\n",
       "    .dataframe tbody tr th {\n",
       "        vertical-align: top;\n",
       "    }\n",
       "\n",
       "    .dataframe thead th {\n",
       "        text-align: right;\n",
       "    }\n",
       "</style>\n",
       "<table border=\"1\" class=\"dataframe\">\n",
       "  <thead>\n",
       "    <tr style=\"text-align: right;\">\n",
       "      <th></th>\n",
       "      <th></th>\n",
       "      <th>mathematics</th>\n",
       "      <th>to</th>\n",
       "      <th>algebra.</th>\n",
       "      <th>at</th>\n",
       "      <th>It</th>\n",
       "      <th>the</th>\n",
       "      <th>al-Khwarizmi</th>\n",
       "      <th>most</th>\n",
       "      <th>by</th>\n",
       "      <th>...</th>\n",
       "      <th>with</th>\n",
       "      <th>important</th>\n",
       "      <th>was</th>\n",
       "      <th>Perhaps</th>\n",
       "      <th>Arabic</th>\n",
       "      <th>of</th>\n",
       "      <th>just</th>\n",
       "      <th>began</th>\n",
       "      <th>this</th>\n",
       "      <th>advances</th>\n",
       "    </tr>\n",
       "  </thead>\n",
       "  <tbody>\n",
       "    <tr>\n",
       "      <th>0</th>\n",
       "      <td>1</td>\n",
       "      <td>1</td>\n",
       "      <td>0</td>\n",
       "      <td>0</td>\n",
       "      <td>1</td>\n",
       "      <td>0</td>\n",
       "      <td>2</td>\n",
       "      <td>1</td>\n",
       "      <td>1</td>\n",
       "      <td>1</td>\n",
       "      <td>...</td>\n",
       "      <td>1</td>\n",
       "      <td>0</td>\n",
       "      <td>0</td>\n",
       "      <td>1</td>\n",
       "      <td>1</td>\n",
       "      <td>2</td>\n",
       "      <td>0</td>\n",
       "      <td>1</td>\n",
       "      <td>1</td>\n",
       "      <td>1</td>\n",
       "    </tr>\n",
       "    <tr>\n",
       "      <th>1</th>\n",
       "      <td>0</td>\n",
       "      <td>0</td>\n",
       "      <td>1</td>\n",
       "      <td>1</td>\n",
       "      <td>0</td>\n",
       "      <td>1</td>\n",
       "      <td>1</td>\n",
       "      <td>0</td>\n",
       "      <td>0</td>\n",
       "      <td>0</td>\n",
       "      <td>...</td>\n",
       "      <td>0</td>\n",
       "      <td>1</td>\n",
       "      <td>1</td>\n",
       "      <td>0</td>\n",
       "      <td>0</td>\n",
       "      <td>1</td>\n",
       "      <td>1</td>\n",
       "      <td>0</td>\n",
       "      <td>1</td>\n",
       "      <td>0</td>\n",
       "    </tr>\n",
       "  </tbody>\n",
       "</table>\n",
       "<p>2 rows × 32 columns</p>\n",
       "</div>"
      ],
      "text/plain": [
       "      mathematics  to  algebra.  at  It  the  al-Khwarizmi  most  by  ...  \\\n",
       "0  1            1   0         0   1   0    2             1     1   1  ...   \n",
       "1  0            0   1         1   0   1    1             0     0   0  ...   \n",
       "\n",
       "   with  important  was  Perhaps  Arabic  of  just  began  this  advances  \n",
       "0     1          0    0        1       1   2     0      1     1         1  \n",
       "1     0          1    1        0       0   1     1      0     1         0  \n",
       "\n",
       "[2 rows x 32 columns]"
      ]
     },
     "execution_count": 83,
     "metadata": {},
     "output_type": "execute_result"
    }
   ],
   "source": [
    "import pandas as pd\n",
    "pd.DataFrame([worddictA, worddictB]) "
   ]
  },
  {
   "cell_type": "markdown",
   "id": "b7ef1fa5",
   "metadata": {},
   "source": [
    " We use dataframe when we need a high level of abstraction and for unstructured data, such as media streams or streams of text."
   ]
  },
  {
   "cell_type": "markdown",
   "id": "0e7677fe",
   "metadata": {},
   "source": [
    "# compute Term Frequency"
   ]
  },
  {
   "cell_type": "code",
   "execution_count": 84,
   "id": "e4115331",
   "metadata": {},
   "outputs": [
    {
     "name": "stdout",
     "output_type": "stream",
     "text": [
      "{'': 0.047619047619047616, 'mathematics': 0.047619047619047616, 'to': 0.0, 'algebra.': 0.0, 'at': 0.047619047619047616, 'It': 0.0, 'the': 0.09523809523809523, 'al-Khwarizmi': 0.047619047619047616, 'most': 0.047619047619047616, 'by': 0.047619047619047616, 'is': 0.0, 'idea': 0.0, 'namely': 0.0, 'work': 0.047619047619047616, 'understand': 0.0, 'made': 0.047619047619047616, 'beginnings': 0.0, 'significant': 0.047619047619047616, 'one': 0.047619047619047616, 'new': 0.0, 'time': 0.047619047619047616, 'how': 0.0, 'with': 0.047619047619047616, 'important': 0.0, 'was': 0.0, 'Perhaps': 0.047619047619047616, 'Arabic': 0.047619047619047616, 'of': 0.09523809523809523, 'just': 0.0, 'began': 0.047619047619047616, 'this': 0.047619047619047616, 'advances': 0.047619047619047616}\n"
     ]
    }
   ],
   "source": [
    "def compute_term_frequency(word_dictionary,bag_of_words_a):\n",
    "    term_frequency_dictionary = {}\n",
    "    length_of_bag_of_words = len(tf)\n",
    "\n",
    "    for word, count in word_dictionary.items():\n",
    "        term_frequency_dictionary[word] = count / float(length_of_bag_of_words)\n",
    "\n",
    "    return term_frequency_dictionary\n",
    "\n",
    "# Implementation\n",
    "\n",
    "print(compute_term_frequency(worddictA,tf))\n",
    " "
   ]
  },
  {
   "cell_type": "markdown",
   "id": "60855741",
   "metadata": {},
   "source": [
    "# Inverse document frequency"
   ]
  },
  {
   "cell_type": "code",
   "execution_count": 85,
   "id": "1807a1bf",
   "metadata": {},
   "outputs": [
    {
     "name": "stdout",
     "output_type": "stream",
     "text": [
      "{'': 0.6931471805599453, 'mathematics': 0.6931471805599453, 'to': 0.6931471805599453, 'algebra.': 0.6931471805599453, 'at': 0.6931471805599453, 'It': 0.6931471805599453, 'the': 0.6931471805599453, 'al-Khwarizmi': 0.6931471805599453, 'most': 0.6931471805599453, 'by': 0.6931471805599453, 'is': 0.6931471805599453, 'idea': 0.6931471805599453, 'namely': 0.6931471805599453, 'work': 0.6931471805599453, 'understand': 0.6931471805599453, 'made': 0.6931471805599453, 'beginnings': 0.6931471805599453, 'significant': 0.6931471805599453, 'one': 0.6931471805599453, 'new': 0.6931471805599453, 'time': 0.6931471805599453, 'how': 0.6931471805599453, 'with': 0.6931471805599453, 'important': 0.6931471805599453, 'was': 0.6931471805599453, 'Perhaps': 0.6931471805599453, 'Arabic': 0.6931471805599453, 'of': 0.6931471805599453, 'just': 0.6931471805599453, 'began': 0.6931471805599453, 'this': 0.6931471805599453, 'advances': 0.6931471805599453}\n"
     ]
    }
   ],
   "source": [
    "import math\n",
    "\n",
    "def compute_inverse_document_frequency(full_doc_list):\n",
    "    idf_dict = {}\n",
    "    length_of_doc_list = len(full_doc_list)\n",
    "\n",
    "    idf_dict = dict.fromkeys(full_doc_list[0].keys(), 0)\n",
    "    for word, value in idf_dict.items():\n",
    "        idf_dict[word] = math.log(length_of_doc_list / (float(value) + 1))\n",
    "\n",
    "    return idf_dict\n",
    "\n",
    "final_idf_dict = compute_inverse_document_frequency([worddictA, worddictB])\n",
    "print(final_idf_dict)"
   ]
  },
  {
   "cell_type": "code",
   "execution_count": null,
   "id": "ad1d1b98",
   "metadata": {},
   "outputs": [],
   "source": [
    " "
   ]
  },
  {
   "cell_type": "code",
   "execution_count": null,
   "id": "cd168714",
   "metadata": {},
   "outputs": [],
   "source": []
  }
 ],
 "metadata": {
  "kernelspec": {
   "display_name": "Python 3",
   "language": "python",
   "name": "python3"
  },
  "language_info": {
   "codemirror_mode": {
    "name": "ipython",
    "version": 3
   },
   "file_extension": ".py",
   "mimetype": "text/x-python",
   "name": "python",
   "nbconvert_exporter": "python",
   "pygments_lexer": "ipython3",
   "version": "3.8.8"
  }
 },
 "nbformat": 4,
 "nbformat_minor": 5
}
