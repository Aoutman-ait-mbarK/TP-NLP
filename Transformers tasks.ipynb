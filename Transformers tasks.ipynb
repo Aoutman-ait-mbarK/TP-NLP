{
 "cells": [
  {
   "cell_type": "markdown",
   "id": "67ca79c4",
   "metadata": {},
   "source": [
    "# Transformers"
   ]
  },
  {
   "cell_type": "markdown",
   "id": "4b3731bc",
   "metadata": {},
   "source": [
    "tasks  Transformers\n",
    "-Sentiment analysis\n",
    "-Name entity recognition (NER)\n",
    "-Question answering \n",
    "-Filling masked text\n",
    "-Summarization \n",
    "-Translation"
   ]
  },
  {
   "cell_type": "code",
   "execution_count": null,
   "id": "df8f4cad",
   "metadata": {},
   "outputs": [],
   "source": [
    "!pip install transformers\n",
    "!pip install transformers sentencepiece"
   ]
  },
  {
   "cell_type": "markdown",
   "id": "6d72d1ad",
   "metadata": {},
   "source": [
    "# Sentiment analysis"
   ]
  },
  {
   "cell_type": "code",
   "execution_count": null,
   "id": "1b986105",
   "metadata": {
    "scrolled": true
   },
   "outputs": [],
   "source": [
    "senti_pipeline =pipeline(\"sentiment-analysis\")"
   ]
  },
  {
   "cell_type": "code",
   "execution_count": null,
   "id": "2dcbbdf7",
   "metadata": {},
   "outputs": [],
   "source": [
    " senti_pipeline(\"i am extremly happy \")"
   ]
  },
  {
   "cell_type": "code",
   "execution_count": null,
   "id": "166e21a7",
   "metadata": {},
   "outputs": [],
   "source": [
    " senti_pipeline(\"i am  sad \")"
   ]
  },
  {
   "cell_type": "code",
   "execution_count": null,
   "id": "938cb2db",
   "metadata": {},
   "outputs": [],
   "source": [
    " senti_pipeline(\" i like you  \")"
   ]
  },
  {
   "cell_type": "markdown",
   "id": "4502cceb",
   "metadata": {},
   "source": [
    "# Question Answering using, HuggingFace Transformers"
   ]
  },
  {
   "cell_type": "code",
   "execution_count": null,
   "id": "0587b11f",
   "metadata": {},
   "outputs": [],
   "source": [
    " from transformers import pipeline"
   ]
  },
  {
   "cell_type": "code",
   "execution_count": null,
   "id": "a186ef9c",
   "metadata": {},
   "outputs": [],
   "source": [
    "nlp = pipeline('question-answering')\n",
    "nlp({\n",
    "    'question': 'What is my name ?',\n",
    "    'context': 'My name is Otman ait mbark , I work at HuggingFace'\n",
    "})"
   ]
  },
  {
   "cell_type": "code",
   "execution_count": null,
   "id": "cabb89ef",
   "metadata": {},
   "outputs": [],
   "source": [
    "nlp = pipeline('question-answering')\n",
    "nlp({\n",
    "    'question': '?أين اسكن',\n",
    "    'context': 'اعيش في المغرب ,اسكن في مدينة ورزازات'\n",
    "})"
   ]
  },
  {
   "cell_type": "code",
   "execution_count": null,
   "id": "ab3665fc",
   "metadata": {},
   "outputs": [],
   "source": [
    " \n"
   ]
  },
  {
   "cell_type": "code",
   "execution_count": null,
   "id": "84ec3ffd",
   "metadata": {},
   "outputs": [],
   "source": []
  },
  {
   "cell_type": "code",
   "execution_count": null,
   "id": "d9f10a3c",
   "metadata": {},
   "outputs": [],
   "source": [
    " "
   ]
  },
  {
   "cell_type": "code",
   "execution_count": null,
   "id": "f588d9c6",
   "metadata": {},
   "outputs": [],
   "source": [
    " "
   ]
  },
  {
   "cell_type": "markdown",
   "id": "b71a741c",
   "metadata": {},
   "source": [
    "# Text Generation\n",
    " "
   ]
  },
  {
   "cell_type": "code",
   "execution_count": null,
   "id": "5f24e7bc",
   "metadata": {},
   "outputs": [],
   "source": [
    "!pip install torch\n",
    "import torch\n",
    "from transformers import GPT2Tokenizer, GPT2LMHeadModel"
   ]
  },
  {
   "cell_type": "code",
   "execution_count": null,
   "id": "2768eeb1",
   "metadata": {},
   "outputs": [],
   "source": [
    "tokeniser = GPT2Tokenizer.from_pretrained('gpt2')\n",
    "model = GPT2LMHeadModel.from_pretrained('gpt2')"
   ]
  },
  {
   "cell_type": "markdown",
   "id": "e8f7c1ef",
   "metadata": {},
   "source": [
    "#  Name entity recognition  # NER"
   ]
  },
  {
   "cell_type": "code",
   "execution_count": null,
   "id": "31b9cbed",
   "metadata": {},
   "outputs": [],
   "source": [
    "nlp = pipeline('ner')\n",
    "nlp('It is me, otman, I work at HuggingFace')"
   ]
  },
  {
   "cell_type": "code",
   "execution_count": null,
   "id": "c22fbe42",
   "metadata": {},
   "outputs": [],
   "source": [
    " "
   ]
  },
  {
   "cell_type": "markdown",
   "id": "ced2d30d",
   "metadata": {},
   "source": [
    "# Predicting Masks"
   ]
  },
  {
   "cell_type": "code",
   "execution_count": null,
   "id": "d8085e24",
   "metadata": {},
   "outputs": [],
   "source": [
    "nlp = pipeline('fill-mask')\n",
    "nlp('I hope you <mask> this video')"
   ]
  },
  {
   "cell_type": "code",
   "execution_count": null,
   "id": "1a707ec0",
   "metadata": {},
   "outputs": [],
   "source": [
    "nlp = pipeline('fill-mask')\n",
    "nlp(' هده الصورة<mask>اتمنى ان ')"
   ]
  },
  {
   "cell_type": "markdown",
   "id": "bb184d0c",
   "metadata": {},
   "source": [
    "# Single Word Prediction"
   ]
  },
  {
   "cell_type": "code",
   "execution_count": null,
   "id": "08f551aa",
   "metadata": {},
   "outputs": [],
   "source": [
    "text = \"let us see how this turns\"\n",
    "indexed_tokens = tokeniser.encode(text)\n",
    "tokens_tensor = torch.tensor([indexed_tokens])\n",
    "model.eval()\n",
    "tokens_tensor = tokens_tensor.to('cuda')\n",
    "model.to('cuda')"
   ]
  },
  {
   "cell_type": "markdown",
   "id": "fb61923f",
   "metadata": {},
   "source": [
    "# Summarising text using HuggingFace"
   ]
  },
  {
   "cell_type": "code",
   "execution_count": null,
   "id": "9d4b8b5b",
   "metadata": {},
   "outputs": [],
   "source": [
    "text = 'Shakespeare occupies a position unique in world literature. Other poets, such as Homer and Dante, and novelists, such as Leo Tolstoy and Charles Dickens, have transcended national barriers, but no writer’s living reputation can compare to that of Shakespeare, whose plays, written in the late 16th and early 17th centuries for a small repertory theatre, are now performed and read more often and in more countries than ever before. The prophecy of his great contemporary, the poet and dramatist Ben Jonson, that Shakespeare “was not of an age, but for all time,” has been fulfilled. It may be audacious even to attempt a definition of his greatness, but it is not so difficult to describe the gifts that enabled him to create imaginative visions of pathos and mirth that, whether read or witnessed in the theatre, fill the mind and linger there. He is a writer of great intellectual rapidity, perceptiveness, and poetic power. Other writers have had these qualities, but with Shakespeare the keenness of mind was applied not to abstruse or remote subjects but to human beings and their complete range of emotions and conflicts. Other writers have applied their keenness of mind in this way, but Shakespeare is astonishingly clever with words and images, so that his mental energy, when applied to intelligible human situations, finds full and memorable expression, convincing and imaginatively stimulating. As if this were not enough, the art form into which his creative energies went was not remote and bookish but involved the vivid stage impersonation of human beings, commanding sympathy and inviting vicarious participation. Thus, Shakespeare’s merits can survive translation into other languages and into cultures remote from that of Elizabethan England.'"
   ]
  },
  {
   "cell_type": "code",
   "execution_count": null,
   "id": "f580859f",
   "metadata": {},
   "outputs": [],
   "source": [
    "from transformers import BartTokenizer, BartForConditionalGeneration, BartConfig\n",
    "\n",
    "model = BartForConditionalGeneration.from_pretrained('bart-large-cnn')\n",
    "tokenizer = BartTokenizer.from_pretrained('bart-large-cnn')"
   ]
  },
  {
   "cell_type": "code",
   "execution_count": null,
   "id": "b930245f",
   "metadata": {},
   "outputs": [],
   "source": [
    "inputs = tokenizer.batch_encode_plus([text], max_length=1024, return_tensors='pt')\n",
    "\n",
    "summary_ids = model.generate(inputs['input_ids'], num_beams=4, max_length=100, early_stopping=False)\n",
    "\n",
    "for ids in summary_ids:\n",
    "    short = tokenizer.decode(ids, skip_special_tokens=True, clean_up_tokenization_spaces=False)\n",
    "\n",
    "    print(len(text), len(short))\n",
    "    print(short)\n",
    " "
   ]
  },
  {
   "cell_type": "markdown",
   "id": "08641210",
   "metadata": {},
   "source": [
    "# English to German Translation¶\n"
   ]
  },
  {
   "cell_type": "code",
   "execution_count": null,
   "id": "5b8d6140",
   "metadata": {},
   "outputs": [],
   "source": [
    "from transformers import pipeline"
   ]
  },
  {
   "cell_type": "code",
   "execution_count": null,
   "id": "ad7a99ce",
   "metadata": {},
   "outputs": [],
   "source": [
    "translation = pipeline(\"translation_en_to_de\")"
   ]
  },
  {
   "cell_type": "code",
   "execution_count": null,
   "id": "11dfc32b",
   "metadata": {},
   "outputs": [],
   "source": [
    "text = \"I like to study Data Science and Machine Learning\""
   ]
  },
  {
   "cell_type": "code",
   "execution_count": null,
   "id": "bcc6f1d0",
   "metadata": {},
   "outputs": [],
   "source": [
    "translated_text = translation(text, max_length=40)[0]['translation_text']\n",
    "print(translated_text)"
   ]
  },
  {
   "cell_type": "markdown",
   "id": "f7110c1c",
   "metadata": {},
   "source": [
    "# Translation (e.g. English to Chinese)"
   ]
  },
  {
   "cell_type": "code",
   "execution_count": null,
   "id": "ef1b1c74",
   "metadata": {},
   "outputs": [],
   "source": [
    "from transformers import AutoModelWithLMHead, AutoTokenizer\n",
    "\n",
    "model = AutoModelWithLMHead.from_pretrained(\"Helsinki-NLP/opus-mt-en-zh\")\n",
    "tokenizer = AutoTokenizer.from_pretrained(\"Helsinki-NLP/opus-mt-en-zh\")"
   ]
  },
  {
   "cell_type": "code",
   "execution_count": null,
   "id": "ed9e4411",
   "metadata": {},
   "outputs": [],
   "source": [
    "translation = pipeline(\"translation_en_to_zh\", model=model, tokenizer=tokenizer)"
   ]
  },
  {
   "cell_type": "code",
   "execution_count": null,
   "id": "8cc163f9",
   "metadata": {},
   "outputs": [],
   "source": [
    "text = \"I like to study Data Science and Machine Learning\""
   ]
  },
  {
   "cell_type": "code",
   "execution_count": null,
   "id": "cdcd23e0",
   "metadata": {},
   "outputs": [],
   "source": [
    "translated_text = translation(text, max_length=40)[0]['translation_text']\n",
    "print(translated_text)\n"
   ]
  },
  {
   "cell_type": "code",
   "execution_count": null,
   "id": "62532261",
   "metadata": {},
   "outputs": [],
   "source": []
  },
  {
   "cell_type": "code",
   "execution_count": null,
   "id": "b8c194e9",
   "metadata": {},
   "outputs": [],
   "source": []
  }
 ],
 "metadata": {
  "kernelspec": {
   "display_name": "Python 3",
   "language": "python",
   "name": "python3"
  },
  "language_info": {
   "codemirror_mode": {
    "name": "ipython",
    "version": 3
   },
   "file_extension": ".py",
   "mimetype": "text/x-python",
   "name": "python",
   "nbconvert_exporter": "python",
   "pygments_lexer": "ipython3",
   "version": "3.8.8"
  }
 },
 "nbformat": 4,
 "nbformat_minor": 5
}
